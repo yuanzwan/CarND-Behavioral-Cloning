{
 "cells": [
  {
   "cell_type": "code",
   "execution_count": 1,
   "metadata": {
    "collapsed": true
   },
   "outputs": [],
   "source": [
    "#load data\n",
    "import csv\n",
    "import cv2\n",
    "import numpy as np\n",
    "\n",
    "lines = []\n",
    "with open('../data/driving_log.csv') as csvfile:\n",
    "    reader = csv.reader(csvfile)\n",
    "    for line in reader:\n",
    "        lines.append(line)\n",
    "        \n",
    "images = []\n",
    "measurements = []\n",
    "for line in lines:\n",
    "    source_path = line[0]\n",
    "    file_name = source_path.split('/')[-1]\n",
    "    current_path = '../data/IMG/' + file_name\n",
    "    image = cv2.imread(current_path)\n",
    "    images.append(image)\n",
    "    measurements.append(float(line[3]))\n",
    "\n",
    "#X_train = np.array(images)\n",
    "#y_train = np.array(measurements)\n",
    "\n",
    "#from keras.models import Sequential\n",
    "#from keras.layers.core import Dense, Activation, Flatten, Dropout\n",
    "#from keras.layers.convolutional import Convolution2D\n",
    "#from keras.layers.pooling import MaxPooling2D\n",
    "\n",
    "#model = Sequential()\n",
    "\n",
    "    "
   ]
  }
 ],
 "metadata": {
  "kernelspec": {
   "display_name": "Python 3",
   "language": "python",
   "name": "python3"
  },
  "language_info": {
   "codemirror_mode": {
    "name": "ipython",
    "version": 3
   },
   "file_extension": ".py",
   "mimetype": "text/x-python",
   "name": "python",
   "nbconvert_exporter": "python",
   "pygments_lexer": "ipython3",
   "version": "3.5.2"
  },
  "widgets": {
   "state": {},
   "version": "1.1.2"
  }
 },
 "nbformat": 4,
 "nbformat_minor": 2
}
